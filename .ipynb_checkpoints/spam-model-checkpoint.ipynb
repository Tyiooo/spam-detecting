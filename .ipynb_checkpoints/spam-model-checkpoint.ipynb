{
 "cells": [
  {
   "cell_type": "code",
   "execution_count": 2,
   "id": "cfd199b1-2220-4cff-a599-58a12013c4c7",
   "metadata": {},
   "outputs": [],
   "source": [
    "import pandas as pd\n",
    "import matplotlib.pyplot as plt\n",
    "import seaborn as sns"
   ]
  },
  {
   "cell_type": "code",
   "execution_count": 34,
   "id": "520aa834-ff6e-4de7-af65-d11ce87ed2dc",
   "metadata": {},
   "outputs": [
    {
     "name": "stdout",
     "output_type": "stream",
     "text": [
      "Requirement already satisfied: nltk in d:\\sololeveling\\anacondanavigator\\lib\\site-packages (3.8.1)\n",
      "Requirement already satisfied: click in d:\\sololeveling\\anacondanavigator\\lib\\site-packages (from nltk) (8.1.7)\n",
      "Requirement already satisfied: joblib in d:\\sololeveling\\anacondanavigator\\lib\\site-packages (from nltk) (1.2.0)\n",
      "Requirement already satisfied: regex>=2021.8.3 in d:\\sololeveling\\anacondanavigator\\lib\\site-packages (from nltk) (2023.10.3)\n",
      "Requirement already satisfied: tqdm in d:\\sololeveling\\anacondanavigator\\lib\\site-packages (from nltk) (4.65.0)\n",
      "Requirement already satisfied: colorama in d:\\sololeveling\\anacondanavigator\\lib\\site-packages (from click->nltk) (0.4.6)\n"
     ]
    }
   ],
   "source": [
    " !pip install nltk"
   ]
  },
  {
   "cell_type": "code",
   "execution_count": 35,
   "id": "d4f8e1ba-98b0-49a7-bd6e-21f9a56016b9",
   "metadata": {},
   "outputs": [
    {
     "name": "stderr",
     "output_type": "stream",
     "text": [
      "[nltk_data] Downloading package stopwords to\n",
      "[nltk_data]     C:\\Users\\vaily\\AppData\\Roaming\\nltk_data...\n",
      "[nltk_data]   Unzipping corpora\\stopwords.zip.\n",
      "[nltk_data] Downloading package punkt to\n",
      "[nltk_data]     C:\\Users\\vaily\\AppData\\Roaming\\nltk_data...\n",
      "[nltk_data]   Unzipping tokenizers\\punkt.zip.\n"
     ]
    }
   ],
   "source": [
    "import nltk\n",
    "nltk.download('stopwords')\n",
    "nltk.download('punkt')\n",
    "from nltk.corpus import stopwords\n",
    "from nltk.stem import PorterStemmer\n",
    "from nltk.tokenize import sent_tokenize, word_tokenize"
   ]
  },
  {
   "cell_type": "markdown",
   "id": "8122c851-2326-4914-93e9-cd2a4dea8197",
   "metadata": {},
   "source": [
    "<span style=\"font-size: 30px;\">**<span style=\"color:purple;\">DATA CLEANING\r\n",
    "</span>**</span>"
   ]
  },
  {
   "cell_type": "code",
   "execution_count": 3,
   "id": "a7c00305-6297-49f0-b593-5f28ae48d1eb",
   "metadata": {},
   "outputs": [
    {
     "data": {
      "text/html": [
       "<div>\n",
       "<style scoped>\n",
       "    .dataframe tbody tr th:only-of-type {\n",
       "        vertical-align: middle;\n",
       "    }\n",
       "\n",
       "    .dataframe tbody tr th {\n",
       "        vertical-align: top;\n",
       "    }\n",
       "\n",
       "    .dataframe thead th {\n",
       "        text-align: right;\n",
       "    }\n",
       "</style>\n",
       "<table border=\"1\" class=\"dataframe\">\n",
       "  <thead>\n",
       "    <tr style=\"text-align: right;\">\n",
       "      <th></th>\n",
       "      <th>label</th>\n",
       "      <th>email</th>\n",
       "    </tr>\n",
       "  </thead>\n",
       "  <tbody>\n",
       "    <tr>\n",
       "      <th>0</th>\n",
       "      <td>spam</td>\n",
       "      <td>attn i am bulawa mulete jr the son of mr steve...</td>\n",
       "    </tr>\n",
       "    <tr>\n",
       "      <th>1</th>\n",
       "      <td>ham</td>\n",
       "      <td>That depends. How would you like to be treated...</td>\n",
       "    </tr>\n",
       "    <tr>\n",
       "      <th>2</th>\n",
       "      <td>ham</td>\n",
       "      <td>Wen u miss someone, the person is definitely s...</td>\n",
       "    </tr>\n",
       "    <tr>\n",
       "      <th>3</th>\n",
       "      <td>spam</td>\n",
       "      <td>Win the newest “Harry Potter and the Order of ...</td>\n",
       "    </tr>\n",
       "    <tr>\n",
       "      <th>4</th>\n",
       "      <td>ham</td>\n",
       "      <td>Where are you lover ? I need you ...</td>\n",
       "    </tr>\n",
       "  </tbody>\n",
       "</table>\n",
       "</div>"
      ],
      "text/plain": [
       "  label                                              email\n",
       "0  spam  attn i am bulawa mulete jr the son of mr steve...\n",
       "1   ham  That depends. How would you like to be treated...\n",
       "2   ham  Wen u miss someone, the person is definitely s...\n",
       "3  spam  Win the newest “Harry Potter and the Order of ...\n",
       "4   ham               Where are you lover ? I need you ..."
      ]
     },
     "execution_count": 3,
     "metadata": {},
     "output_type": "execute_result"
    }
   ],
   "source": [
    "train_data = pd.read_csv('train.csv')\n",
    "train_data.head()"
   ]
  },
  {
   "cell_type": "code",
   "execution_count": 4,
   "id": "699287d4-5b20-47e6-a316-87b3413de73a",
   "metadata": {},
   "outputs": [
    {
     "data": {
      "text/plain": [
       "label    19\n",
       "email    19\n",
       "dtype: int64"
      ]
     },
     "execution_count": 4,
     "metadata": {},
     "output_type": "execute_result"
    }
   ],
   "source": [
    "train_data.isnull().sum()"
   ]
  },
  {
   "cell_type": "code",
   "execution_count": 5,
   "id": "d46cc158-a69d-4f4a-b225-22f3ca0868e1",
   "metadata": {},
   "outputs": [
    {
     "data": {
      "text/plain": [
       "(5863, 2)"
      ]
     },
     "execution_count": 5,
     "metadata": {},
     "output_type": "execute_result"
    }
   ],
   "source": [
    "train_data.shape"
   ]
  },
  {
   "cell_type": "code",
   "execution_count": 6,
   "id": "800ee517-3577-4257-8ffe-85221e5575f2",
   "metadata": {},
   "outputs": [],
   "source": [
    "train_data = train_data.dropna()"
   ]
  },
  {
   "cell_type": "code",
   "execution_count": 7,
   "id": "d71e0ff5-2c6c-4929-9b20-365de0c843d8",
   "metadata": {},
   "outputs": [
    {
     "data": {
      "text/plain": [
       "(5825, 2)"
      ]
     },
     "execution_count": 7,
     "metadata": {},
     "output_type": "execute_result"
    }
   ],
   "source": [
    "train_data.shape"
   ]
  },
  {
   "cell_type": "code",
   "execution_count": 8,
   "id": "e2bbe669-ac84-43e2-a637-ec426cb562c4",
   "metadata": {},
   "outputs": [
    {
     "data": {
      "text/plain": [
       "299"
      ]
     },
     "execution_count": 8,
     "metadata": {},
     "output_type": "execute_result"
    }
   ],
   "source": [
    "train_data.duplicated().sum()"
   ]
  },
  {
   "cell_type": "code",
   "execution_count": 9,
   "id": "09e37405-14c1-483a-9189-02d92e76f364",
   "metadata": {},
   "outputs": [],
   "source": [
    "train_data = train_data.drop_duplicates()"
   ]
  },
  {
   "cell_type": "code",
   "execution_count": 10,
   "id": "bee1e714-62c6-49fc-bdd4-94b2839d5cba",
   "metadata": {},
   "outputs": [
    {
     "data": {
      "text/plain": [
       "(5526, 2)"
      ]
     },
     "execution_count": 10,
     "metadata": {},
     "output_type": "execute_result"
    }
   ],
   "source": [
    "train_data.shape"
   ]
  },
  {
   "cell_type": "markdown",
   "id": "12d7f334-39d5-4e22-a2d2-b1ce36867a94",
   "metadata": {},
   "source": [
    "<span style=\"font-size: 30px;\">**<span style=\"color:purple;\">EDA\n",
    "</span>**</span>"
   ]
  },
  {
   "cell_type": "code",
   "execution_count": 11,
   "id": "23ef0d88-3606-4ca2-89a9-75eda385996c",
   "metadata": {},
   "outputs": [
    {
     "data": {
      "text/plain": [
       "ham               4739\n",
       "spam               786\n",
       "{\"mode\":\"full\"       1\n",
       "Name: label, dtype: int64"
      ]
     },
     "execution_count": 11,
     "metadata": {},
     "output_type": "execute_result"
    }
   ],
   "source": [
    "train_data.label.value_counts()"
   ]
  },
  {
   "cell_type": "code",
   "execution_count": 12,
   "id": "b54f32b0-5698-4327-a1f1-f877b9e23866",
   "metadata": {},
   "outputs": [
    {
     "data": {
      "text/html": [
       "<div>\n",
       "<style scoped>\n",
       "    .dataframe tbody tr th:only-of-type {\n",
       "        vertical-align: middle;\n",
       "    }\n",
       "\n",
       "    .dataframe tbody tr th {\n",
       "        vertical-align: top;\n",
       "    }\n",
       "\n",
       "    .dataframe thead th {\n",
       "        text-align: right;\n",
       "    }\n",
       "</style>\n",
       "<table border=\"1\" class=\"dataframe\">\n",
       "  <thead>\n",
       "    <tr style=\"text-align: right;\">\n",
       "      <th></th>\n",
       "      <th>label</th>\n",
       "      <th>email</th>\n",
       "    </tr>\n",
       "  </thead>\n",
       "  <tbody>\n",
       "    <tr>\n",
       "      <th>3754</th>\n",
       "      <td>{\"mode\":\"full\"</td>\n",
       "      <td>isActive:false}</td>\n",
       "    </tr>\n",
       "  </tbody>\n",
       "</table>\n",
       "</div>"
      ],
      "text/plain": [
       "               label            email\n",
       "3754  {\"mode\":\"full\"  isActive:false}"
      ]
     },
     "execution_count": 12,
     "metadata": {},
     "output_type": "execute_result"
    }
   ],
   "source": [
    "train_data[train_data.label == '{\"mode\":\"full\"']"
   ]
  },
  {
   "cell_type": "code",
   "execution_count": 13,
   "id": "8938bf47-3268-4ae1-940b-57267072864c",
   "metadata": {},
   "outputs": [
    {
     "data": {
      "text/plain": [
       "(5526, 2)"
      ]
     },
     "execution_count": 13,
     "metadata": {},
     "output_type": "execute_result"
    }
   ],
   "source": [
    "train_data.shape"
   ]
  },
  {
   "cell_type": "code",
   "execution_count": 14,
   "id": "2e542fff-862b-4416-a6a7-52ced252cbef",
   "metadata": {},
   "outputs": [],
   "source": [
    "train_data = train_data[train_data.label != '{\"mode\":\"full\"']"
   ]
  },
  {
   "cell_type": "code",
   "execution_count": 15,
   "id": "c865c139-f17b-43fd-bd70-31d790006619",
   "metadata": {},
   "outputs": [
    {
     "data": {
      "text/plain": [
       "(5525, 2)"
      ]
     },
     "execution_count": 15,
     "metadata": {},
     "output_type": "execute_result"
    }
   ],
   "source": [
    "train_data.shape"
   ]
  },
  {
   "cell_type": "code",
   "execution_count": 16,
   "id": "3da9c648-9f61-4983-b13a-1d41c00c24b2",
   "metadata": {},
   "outputs": [
    {
     "data": {
      "image/png": "[encoded data removed]",
      "text/plain": [
       "<Figure size 800x500 with 1 Axes>"
      ]
     },
     "metadata": {},
     "output_type": "display_data"
    }
   ],
   "source": [
    "plt.figure(figsize=(8, 5))\n",
    "plt.pie(train_data.label.value_counts(), labels = train_data.label.value_counts().index, autopct='%1.1f%%')\n",
    "plt.title('Distibution of spam and ham')\n",
    "plt.show()"
   ]
  },
  {
   "cell_type": "code",
   "execution_count": 17,
   "id": "e3d65c6b-3076-4f70-b11d-b32e43ac19f6",
   "metadata": {},
   "outputs": [
    {
     "data": {
      "text/html": [
       "<div>\n",
       "<style scoped>\n",
       "    .dataframe tbody tr th:only-of-type {\n",
       "        vertical-align: middle;\n",
       "    }\n",
       "\n",
       "    .dataframe tbody tr th {\n",
       "        vertical-align: top;\n",
       "    }\n",
       "\n",
       "    .dataframe thead th {\n",
       "        text-align: right;\n",
       "    }\n",
       "</style>\n",
       "<table border=\"1\" class=\"dataframe\">\n",
       "  <thead>\n",
       "    <tr style=\"text-align: right;\">\n",
       "      <th></th>\n",
       "      <th>label</th>\n",
       "      <th>email</th>\n",
       "      <th>length</th>\n",
       "    </tr>\n",
       "  </thead>\n",
       "  <tbody>\n",
       "    <tr>\n",
       "      <th>1576</th>\n",
       "      <td>ham</td>\n",
       "      <td>use perl daily newsletter in this issue perl m...</td>\n",
       "      <td>835</td>\n",
       "    </tr>\n",
       "    <tr>\n",
       "      <th>3935</th>\n",
       "      <td>spam</td>\n",
       "      <td>Congratulations - Thanks to a good friend U ha...</td>\n",
       "      <td>157</td>\n",
       "    </tr>\n",
       "    <tr>\n",
       "      <th>2049</th>\n",
       "      <td>ham</td>\n",
       "      <td>on thu NUMBER NUMBER NUMBER at NUMBER NUMBER t...</td>\n",
       "      <td>1194</td>\n",
       "    </tr>\n",
       "    <tr>\n",
       "      <th>4828</th>\n",
       "      <td>ham</td>\n",
       "      <td>Havent.</td>\n",
       "      <td>7</td>\n",
       "    </tr>\n",
       "    <tr>\n",
       "      <th>1993</th>\n",
       "      <td>ham</td>\n",
       "      <td>athalon redhat linux machine athalon redhat n...</td>\n",
       "      <td>1064</td>\n",
       "    </tr>\n",
       "  </tbody>\n",
       "</table>\n",
       "</div>"
      ],
      "text/plain": [
       "     label                                              email  length\n",
       "1576   ham  use perl daily newsletter in this issue perl m...     835\n",
       "3935  spam  Congratulations - Thanks to a good friend U ha...     157\n",
       "2049   ham  on thu NUMBER NUMBER NUMBER at NUMBER NUMBER t...    1194\n",
       "4828   ham                                            Havent.       7\n",
       "1993   ham   athalon redhat linux machine athalon redhat n...    1064"
      ]
     },
     "execution_count": 17,
     "metadata": {},
     "output_type": "execute_result"
    }
   ],
   "source": [
    "train_data['length'] = train_data.email.apply(len)\n",
    "train_data.sample(5)"
   ]
  },
  {
   "cell_type": "code",
   "execution_count": 39,
   "id": "5c746167-7a0e-4fb2-b772-cc918c370cd9",
   "metadata": {},
   "outputs": [],
   "source": [
    "import string\n",
    "# train_data['num_words'] = [len(list(map(lambda x: x.strip(string.punctuation), x.split()))) for x in train_data['email'].tolist()]\n",
    "train_data['num_words'] = train_data['email'].apply(word_tokenize).apply(len)"
   ]
  },
  {
   "cell_type": "code",
   "execution_count": 41,
   "id": "3438aec1-7085-4ccd-8a52-250c4ca6ce19",
   "metadata": {},
   "outputs": [
    {
     "data": {
      "text/html": [
       "<div>\n",
       "<style scoped>\n",
       "    .dataframe tbody tr th:only-of-type {\n",
       "        vertical-align: middle;\n",
       "    }\n",
       "\n",
       "    .dataframe tbody tr th {\n",
       "        vertical-align: top;\n",
       "    }\n",
       "\n",
       "    .dataframe thead th {\n",
       "        text-align: right;\n",
       "    }\n",
       "</style>\n",
       "<table border=\"1\" class=\"dataframe\">\n",
       "  <thead>\n",
       "    <tr style=\"text-align: right;\">\n",
       "      <th></th>\n",
       "      <th>label</th>\n",
       "      <th>email</th>\n",
       "      <th>length</th>\n",
       "      <th>num_words</th>\n",
       "      <th>num_sentence</th>\n",
       "      <th>prepared_text</th>\n",
       "    </tr>\n",
       "  </thead>\n",
       "  <tbody>\n",
       "    <tr>\n",
       "      <th>0</th>\n",
       "      <td>spam</td>\n",
       "      <td>attn i am bulawa mulete jr the son of mr steve...</td>\n",
       "      <td>2852</td>\n",
       "      <td>522</td>\n",
       "      <td>1</td>\n",
       "      <td>attn i am bulawa mulete jr the son of mr steve...</td>\n",
       "    </tr>\n",
       "    <tr>\n",
       "      <th>1</th>\n",
       "      <td>ham</td>\n",
       "      <td>That depends. How would you like to be treated...</td>\n",
       "      <td>50</td>\n",
       "      <td>13</td>\n",
       "      <td>3</td>\n",
       "      <td>that depends. how would you like to be treated...</td>\n",
       "    </tr>\n",
       "    <tr>\n",
       "      <th>2</th>\n",
       "      <td>ham</td>\n",
       "      <td>Wen u miss someone, the person is definitely s...</td>\n",
       "      <td>141</td>\n",
       "      <td>30</td>\n",
       "      <td>2</td>\n",
       "      <td>wen u miss someone, the person is definitely s...</td>\n",
       "    </tr>\n",
       "    <tr>\n",
       "      <th>3</th>\n",
       "      <td>spam</td>\n",
       "      <td>Win the newest “Harry Potter and the Order of ...</td>\n",
       "      <td>138</td>\n",
       "      <td>31</td>\n",
       "      <td>1</td>\n",
       "      <td>win the newest “harry potter and the order of ...</td>\n",
       "    </tr>\n",
       "    <tr>\n",
       "      <th>4</th>\n",
       "      <td>ham</td>\n",
       "      <td>Where are you lover ? I need you ...</td>\n",
       "      <td>36</td>\n",
       "      <td>9</td>\n",
       "      <td>2</td>\n",
       "      <td>where are you lover ? i need you ...</td>\n",
       "    </tr>\n",
       "  </tbody>\n",
       "</table>\n",
       "</div>"
      ],
      "text/plain": [
       "  label                                              email  length  num_words  \\\n",
       "0  spam  attn i am bulawa mulete jr the son of mr steve...    2852        522   \n",
       "1   ham  That depends. How would you like to be treated...      50         13   \n",
       "2   ham  Wen u miss someone, the person is definitely s...     141         30   \n",
       "3  spam  Win the newest “Harry Potter and the Order of ...     138         31   \n",
       "4   ham               Where are you lover ? I need you ...      36          9   \n",
       "\n",
       "   num_sentence                                      prepared_text  \n",
       "0             1  attn i am bulawa mulete jr the son of mr steve...  \n",
       "1             3  that depends. how would you like to be treated...  \n",
       "2             2  wen u miss someone, the person is definitely s...  \n",
       "3             1  win the newest “harry potter and the order of ...  \n",
       "4             2               where are you lover ? i need you ...  "
      ]
     },
     "execution_count": 41,
     "metadata": {},
     "output_type": "execute_result"
    }
   ],
   "source": [
    "train_data.head()"
   ]
  },
  {
   "cell_type": "code",
   "execution_count": 20,
   "id": "6af8f734-f7f3-46a0-8645-e62415d09c83",
   "metadata": {},
   "outputs": [],
   "source": [
    "# import re\n",
    "# def sent_count(text):\n",
    "#         new_text = re.sub(r'[.!?]\\s', r'|', text)\n",
    "#         sent_num = len(new_text.split('|'))\n",
    "#         return sent_num"
   ]
  },
  {
   "cell_type": "code",
   "execution_count": 21,
   "id": "f70b7e04-5dfc-4da5-919c-ca6b01633019",
   "metadata": {},
   "outputs": [],
   "source": [
    "# train_data['num_sentence'] = train_data['email'].apply(sent_count)"
   ]
  },
  {
   "cell_type": "code",
   "execution_count": 44,
   "id": "b503be76-eefd-4806-a3d2-170625e52ecc",
   "metadata": {},
   "outputs": [],
   "source": [
    "train_data['num_sentence'] = train_data['email'].apply(sent_tokenize).apply(len)"
   ]
  },
  {
   "cell_type": "code",
   "execution_count": 22,
   "id": "646dd6ea-1625-4aa4-ab51-a68328a52305",
   "metadata": {},
   "outputs": [
    {
     "data": {
      "text/html": [
       "<div>\n",
       "<style scoped>\n",
       "    .dataframe tbody tr th:only-of-type {\n",
       "        vertical-align: middle;\n",
       "    }\n",
       "\n",
       "    .dataframe tbody tr th {\n",
       "        vertical-align: top;\n",
       "    }\n",
       "\n",
       "    .dataframe thead th {\n",
       "        text-align: right;\n",
       "    }\n",
       "</style>\n",
       "<table border=\"1\" class=\"dataframe\">\n",
       "  <thead>\n",
       "    <tr style=\"text-align: right;\">\n",
       "      <th></th>\n",
       "      <th>label</th>\n",
       "      <th>email</th>\n",
       "      <th>length</th>\n",
       "      <th>num_words</th>\n",
       "      <th>num_sentence</th>\n",
       "    </tr>\n",
       "  </thead>\n",
       "  <tbody>\n",
       "    <tr>\n",
       "      <th>0</th>\n",
       "      <td>spam</td>\n",
       "      <td>attn i am bulawa mulete jr the son of mr steve...</td>\n",
       "      <td>2852</td>\n",
       "      <td>522</td>\n",
       "      <td>1</td>\n",
       "    </tr>\n",
       "    <tr>\n",
       "      <th>1</th>\n",
       "      <td>ham</td>\n",
       "      <td>That depends. How would you like to be treated...</td>\n",
       "      <td>50</td>\n",
       "      <td>10</td>\n",
       "      <td>3</td>\n",
       "    </tr>\n",
       "    <tr>\n",
       "      <th>2</th>\n",
       "      <td>ham</td>\n",
       "      <td>Wen u miss someone, the person is definitely s...</td>\n",
       "      <td>141</td>\n",
       "      <td>25</td>\n",
       "      <td>2</td>\n",
       "    </tr>\n",
       "    <tr>\n",
       "      <th>3</th>\n",
       "      <td>spam</td>\n",
       "      <td>Win the newest “Harry Potter and the Order of ...</td>\n",
       "      <td>138</td>\n",
       "      <td>26</td>\n",
       "      <td>1</td>\n",
       "    </tr>\n",
       "    <tr>\n",
       "      <th>4</th>\n",
       "      <td>ham</td>\n",
       "      <td>Where are you lover ? I need you ...</td>\n",
       "      <td>36</td>\n",
       "      <td>9</td>\n",
       "      <td>2</td>\n",
       "    </tr>\n",
       "  </tbody>\n",
       "</table>\n",
       "</div>"
      ],
      "text/plain": [
       "  label                                              email  length  num_words  \\\n",
       "0  spam  attn i am bulawa mulete jr the son of mr steve...    2852        522   \n",
       "1   ham  That depends. How would you like to be treated...      50         10   \n",
       "2   ham  Wen u miss someone, the person is definitely s...     141         25   \n",
       "3  spam  Win the newest “Harry Potter and the Order of ...     138         26   \n",
       "4   ham               Where are you lover ? I need you ...      36          9   \n",
       "\n",
       "   num_sentence  \n",
       "0             1  \n",
       "1             3  \n",
       "2             2  \n",
       "3             1  \n",
       "4             2  "
      ]
     },
     "execution_count": 22,
     "metadata": {},
     "output_type": "execute_result"
    }
   ],
   "source": [
    "train_data.head()"
   ]
  },
  {
   "cell_type": "code",
   "execution_count": 45,
   "id": "6647928f-3355-491a-8709-910f72fcd591",
   "metadata": {},
   "outputs": [
    {
     "data": {
      "text/plain": [
       "'Wen u miss someone, the person is definitely special for u..... But if the person is so special, why to miss them, just Keep-in-touch gdeve..'"
      ]
     },
     "execution_count": 45,
     "metadata": {},
     "output_type": "execute_result"
    }
   ],
   "source": [
    "train_data.email[2]"
   ]
  },
  {
   "cell_type": "code",
   "execution_count": 46,
   "id": "05e92a9b-d8f1-43cd-8e67-f687cf6874ee",
   "metadata": {},
   "outputs": [
    {
     "data": {
      "image/png": "[encoded data removed]",
      "text/plain": [
       "<Figure size 640x480 with 1 Axes>"
      ]
     },
     "metadata": {},
     "output_type": "display_data"
    },
    {
     "name": "stdout",
     "output_type": "stream",
     "text": [
      "Average Length of Spam Emails: 1082.643765903308\n",
      "Average Length of Ham Emails: 455.9221354716185\n"
     ]
    }
   ],
   "source": [
    "avg_length_spam = train_data[train_data['label'] == 'spam']['length'].mean()\n",
    "avg_length_ham = train_data[train_data['label'] == 'ham']['length'].mean()\n",
    "\n",
    "plt.bar(['Spam', 'Ham'], [avg_length_spam, avg_length_ham], color=['purple', 'pink'])\n",
    "plt.title('Average Length of Emails for Spam and Ham')\n",
    "plt.xlabel('Email Type')\n",
    "plt.ylabel('Average Length')\n",
    "plt.show()\n",
    "print(\"Average Length of Spam Emails:\", avg_length_spam)\n",
    "print(\"Average Length of Ham Emails:\", avg_length_ham)"
   ]
  },
  {
   "cell_type": "code",
   "execution_count": 47,
   "id": "44a8a9fa-7af7-47ec-a0c8-ec44e940df14",
   "metadata": {},
   "outputs": [
    {
     "data": {
      "image/png": "[encoded data removed]",
      "text/plain": [
       "<Figure size 640x480 with 1 Axes>"
      ]
     },
     "metadata": {},
     "output_type": "display_data"
    },
    {
     "name": "stdout",
     "output_type": "stream",
     "text": [
      "Average words of Spam Emails: 150.48600508905852\n",
      "Average words of Ham Emails: 83.0447351761975\n"
     ]
    }
   ],
   "source": [
    "avg_words_spam = train_data[train_data['label'] == 'spam']['num_words'].mean()\n",
    "avg_words_ham = train_data[train_data['label'] == 'ham']['num_words'].mean()\n",
    "\n",
    "plt.bar(['Spam', 'Ham'], [avg_words_spam, avg_words_ham], color=['purple', 'pink'])\n",
    "plt.title('Average words of Emails for Spam and Ham')\n",
    "plt.xlabel('Email Type')\n",
    "plt.ylabel('Average Length')\n",
    "plt.show()\n",
    "print(\"Average words of Spam Emails:\", avg_words_spam)\n",
    "print(\"Average words of Ham Emails:\", avg_words_ham)"
   ]
  },
  {
   "cell_type": "code",
   "execution_count": 48,
   "id": "89bfa5dc-e229-4901-8a5a-14795d13bddc",
   "metadata": {},
   "outputs": [
    {
     "data": {
      "image/png": "[encoded data removed]",
      "text/plain": [
       "<Figure size 640x480 with 1 Axes>"
      ]
     },
     "metadata": {},
     "output_type": "display_data"
    },
    {
     "name": "stdout",
     "output_type": "stream",
     "text": [
      "Average sentences of Spam Emails: 2.2290076335877864\n",
      "Average sentences of Ham Emails: 1.5598227474150665\n"
     ]
    }
   ],
   "source": [
    "avg_sentences_spam = train_data[train_data['label'] == 'spam']['num_sentence'].mean()\n",
    "avg_sentences_ham = train_data[train_data['label'] == 'ham']['num_sentence'].mean()\n",
    "\n",
    "plt.bar(['Spam', 'Ham'], [avg_sentences_spam, avg_sentences_ham], color=['purple', 'pink'])\n",
    "plt.title('Average sentences of Emails for Spam and Ham')\n",
    "plt.xlabel('Email Type')\n",
    "plt.ylabel('Average Length')\n",
    "plt.show()\n",
    "print(\"Average sentences of Spam Emails:\", avg_sentences_spam)\n",
    "print(\"Average sentences of Ham Emails:\", avg_sentences_ham)"
   ]
  },
  {
   "cell_type": "code",
   "execution_count": 28,
   "id": "2f8dd326-49da-41cf-8d4b-44f04371038f",
   "metadata": {},
   "outputs": [
    {
     "name": "stdout",
     "output_type": "stream",
     "text": [
      "The Relationship between Features are \n",
      "                 length  num_words  num_sentence\n",
      "length        1.000000   0.729541     -0.070449\n",
      "num_words     0.729541   1.000000     -0.111223\n",
      "num_sentence -0.070449  -0.111223      1.000000\n"
     ]
    }
   ],
   "source": [
    "correlation_matrix = train_data[['length', 'num_words', 'num_sentence']].corr()\n",
    "print(\"The Relationship between Features are \\n\",correlation_matrix )"
   ]
  },
  {
   "cell_type": "code",
   "execution_count": 30,
   "id": "8134c07e-db21-48ff-bc56-f8709a50e770",
   "metadata": {},
   "outputs": [
    {
     "data": {
      "image/png": "[encoded data removed]",
      "text/plain": [
       "<Figure size 640x480 with 2 Axes>"
      ]
     },
     "metadata": {},
     "output_type": "display_data"
    }
   ],
   "source": [
    "sns.heatmap(correlation_matrix, annot=True, cmap='magma')\n",
    "plt.title('Correlation Matrix of Features')\n",
    "plt.show()"
   ]
  },
  {
   "cell_type": "markdown",
   "id": "d5ae6add-2da9-48c3-893c-cbffc1f1629d",
   "metadata": {},
   "source": [
    "<span style=\"font-size: 30px;\">**<span style=\"color:purple;\">DATA PREPROCESSING\n",
    "</span>**</span>"
   ]
  },
  {
   "cell_type": "code",
   "execution_count": 86,
   "id": "7c33a3ba-1b51-40cf-8f2b-e2b9c5db55a4",
   "metadata": {},
   "outputs": [
    {
     "data": {
      "text/html": [
       "<div>\n",
       "<style scoped>\n",
       "    .dataframe tbody tr th:only-of-type {\n",
       "        vertical-align: middle;\n",
       "    }\n",
       "\n",
       "    .dataframe tbody tr th {\n",
       "        vertical-align: top;\n",
       "    }\n",
       "\n",
       "    .dataframe thead th {\n",
       "        text-align: right;\n",
       "    }\n",
       "</style>\n",
       "<table border=\"1\" class=\"dataframe\">\n",
       "  <thead>\n",
       "    <tr style=\"text-align: right;\">\n",
       "      <th></th>\n",
       "      <th>label</th>\n",
       "      <th>email</th>\n",
       "      <th>length</th>\n",
       "      <th>num_words</th>\n",
       "      <th>num_sentence</th>\n",
       "      <th>prepared_text</th>\n",
       "    </tr>\n",
       "  </thead>\n",
       "  <tbody>\n",
       "    <tr>\n",
       "      <th>0</th>\n",
       "      <td>spam</td>\n",
       "      <td>attn i am bulawa mulete jr the son of mr steve...</td>\n",
       "      <td>2852</td>\n",
       "      <td>522</td>\n",
       "      <td>1</td>\n",
       "      <td>attn i am bulawa mulete jr the son of mr steve...</td>\n",
       "    </tr>\n",
       "    <tr>\n",
       "      <th>1</th>\n",
       "      <td>ham</td>\n",
       "      <td>That depends. How would you like to be treated...</td>\n",
       "      <td>50</td>\n",
       "      <td>13</td>\n",
       "      <td>3</td>\n",
       "      <td>that depends. how would you like to be treated...</td>\n",
       "    </tr>\n",
       "    <tr>\n",
       "      <th>2</th>\n",
       "      <td>ham</td>\n",
       "      <td>Wen u miss someone, the person is definitely s...</td>\n",
       "      <td>141</td>\n",
       "      <td>30</td>\n",
       "      <td>2</td>\n",
       "      <td>wen u miss someone, the person is definitely s...</td>\n",
       "    </tr>\n",
       "    <tr>\n",
       "      <th>3</th>\n",
       "      <td>spam</td>\n",
       "      <td>Win the newest “Harry Potter and the Order of ...</td>\n",
       "      <td>138</td>\n",
       "      <td>31</td>\n",
       "      <td>1</td>\n",
       "      <td>win the newest “harry potter and the order of ...</td>\n",
       "    </tr>\n",
       "    <tr>\n",
       "      <th>4</th>\n",
       "      <td>ham</td>\n",
       "      <td>Where are you lover ? I need you ...</td>\n",
       "      <td>36</td>\n",
       "      <td>9</td>\n",
       "      <td>2</td>\n",
       "      <td>where are you lover ? i need you ...</td>\n",
       "    </tr>\n",
       "  </tbody>\n",
       "</table>\n",
       "</div>"
      ],
      "text/plain": [
       "  label                                              email  length  num_words  \\\n",
       "0  spam  attn i am bulawa mulete jr the son of mr steve...    2852        522   \n",
       "1   ham  That depends. How would you like to be treated...      50         13   \n",
       "2   ham  Wen u miss someone, the person is definitely s...     141         30   \n",
       "3  spam  Win the newest “Harry Potter and the Order of ...     138         31   \n",
       "4   ham               Where are you lover ? I need you ...      36          9   \n",
       "\n",
       "   num_sentence                                      prepared_text  \n",
       "0             1  attn i am bulawa mulete jr the son of mr steve...  \n",
       "1             3  that depends. how would you like to be treated...  \n",
       "2             2  wen u miss someone, the person is definitely s...  \n",
       "3             1  win the newest “harry potter and the order of ...  \n",
       "4             2               where are you lover ? i need you ...  "
      ]
     },
     "execution_count": 86,
     "metadata": {},
     "output_type": "execute_result"
    }
   ],
   "source": [
    "train_data['prepared_text'] = train_data['email'].str.lower()\n",
    "train_data.head()"
   ]
  },
  {
   "cell_type": "code",
   "execution_count": 87,
   "id": "d61065c1-3dd5-42d8-8b1e-5f1bf7f46d6b",
   "metadata": {},
   "outputs": [],
   "source": [
    "train_data['prepared_text'] = train_data['prepared_text'].apply(word_tokenize)"
   ]
  },
  {
   "cell_type": "code",
   "execution_count": 88,
   "id": "97c2a3c5-9198-4555-b47d-0ad32c85925f",
   "metadata": {},
   "outputs": [
    {
     "data": {
      "text/html": [
       "<div>\n",
       "<style scoped>\n",
       "    .dataframe tbody tr th:only-of-type {\n",
       "        vertical-align: middle;\n",
       "    }\n",
       "\n",
       "    .dataframe tbody tr th {\n",
       "        vertical-align: top;\n",
       "    }\n",
       "\n",
       "    .dataframe thead th {\n",
       "        text-align: right;\n",
       "    }\n",
       "</style>\n",
       "<table border=\"1\" class=\"dataframe\">\n",
       "  <thead>\n",
       "    <tr style=\"text-align: right;\">\n",
       "      <th></th>\n",
       "      <th>label</th>\n",
       "      <th>email</th>\n",
       "      <th>length</th>\n",
       "      <th>num_words</th>\n",
       "      <th>num_sentence</th>\n",
       "      <th>prepared_text</th>\n",
       "    </tr>\n",
       "  </thead>\n",
       "  <tbody>\n",
       "    <tr>\n",
       "      <th>0</th>\n",
       "      <td>spam</td>\n",
       "      <td>attn i am bulawa mulete jr the son of mr steve...</td>\n",
       "      <td>2852</td>\n",
       "      <td>522</td>\n",
       "      <td>1</td>\n",
       "      <td>[attn, i, am, bulawa, mulete, jr, the, son, of...</td>\n",
       "    </tr>\n",
       "    <tr>\n",
       "      <th>1</th>\n",
       "      <td>ham</td>\n",
       "      <td>That depends. How would you like to be treated...</td>\n",
       "      <td>50</td>\n",
       "      <td>13</td>\n",
       "      <td>3</td>\n",
       "      <td>[that, depends, ., how, would, you, like, to, ...</td>\n",
       "    </tr>\n",
       "    <tr>\n",
       "      <th>2</th>\n",
       "      <td>ham</td>\n",
       "      <td>Wen u miss someone, the person is definitely s...</td>\n",
       "      <td>141</td>\n",
       "      <td>30</td>\n",
       "      <td>2</td>\n",
       "      <td>[wen, u, miss, someone, ,, the, person, is, de...</td>\n",
       "    </tr>\n",
       "    <tr>\n",
       "      <th>3</th>\n",
       "      <td>spam</td>\n",
       "      <td>Win the newest “Harry Potter and the Order of ...</td>\n",
       "      <td>138</td>\n",
       "      <td>31</td>\n",
       "      <td>1</td>\n",
       "      <td>[win, the, newest, “, harry, potter, and, the,...</td>\n",
       "    </tr>\n",
       "    <tr>\n",
       "      <th>4</th>\n",
       "      <td>ham</td>\n",
       "      <td>Where are you lover ? I need you ...</td>\n",
       "      <td>36</td>\n",
       "      <td>9</td>\n",
       "      <td>2</td>\n",
       "      <td>[where, are, you, lover, ?, i, need, you, ...]</td>\n",
       "    </tr>\n",
       "  </tbody>\n",
       "</table>\n",
       "</div>"
      ],
      "text/plain": [
       "  label                                              email  length  num_words  \\\n",
       "0  spam  attn i am bulawa mulete jr the son of mr steve...    2852        522   \n",
       "1   ham  That depends. How would you like to be treated...      50         13   \n",
       "2   ham  Wen u miss someone, the person is definitely s...     141         30   \n",
       "3  spam  Win the newest “Harry Potter and the Order of ...     138         31   \n",
       "4   ham               Where are you lover ? I need you ...      36          9   \n",
       "\n",
       "   num_sentence                                      prepared_text  \n",
       "0             1  [attn, i, am, bulawa, mulete, jr, the, son, of...  \n",
       "1             3  [that, depends, ., how, would, you, like, to, ...  \n",
       "2             2  [wen, u, miss, someone, ,, the, person, is, de...  \n",
       "3             1  [win, the, newest, “, harry, potter, and, the,...  \n",
       "4             2     [where, are, you, lover, ?, i, need, you, ...]  "
      ]
     },
     "execution_count": 88,
     "metadata": {},
     "output_type": "execute_result"
    }
   ],
   "source": [
    "train_data.head()"
   ]
  },
  {
   "cell_type": "code",
   "execution_count": 89,
   "id": "dfe44098-a43e-4fbd-975c-d146fd4680be",
   "metadata": {},
   "outputs": [],
   "source": [
    "stop_words = set(stopwords.words('english'))"
   ]
  },
  {
   "cell_type": "code",
   "execution_count": 90,
   "id": "83ef932f-b520-4b5c-91a9-c00758db91af",
   "metadata": {},
   "outputs": [
    {
     "data": {
      "text/plain": [
       "{'a',\n",
       " 'about',\n",
       " 'above',\n",
       " 'after',\n",
       " 'again',\n",
       " 'against',\n",
       " 'ain',\n",
       " 'all',\n",
       " 'am',\n",
       " 'an',\n",
       " 'and',\n",
       " 'any',\n",
       " 'are',\n",
       " 'aren',\n",
       " \"aren't\",\n",
       " 'as',\n",
       " 'at',\n",
       " 'be',\n",
       " 'because',\n",
       " 'been',\n",
       " 'before',\n",
       " 'being',\n",
       " 'below',\n",
       " 'between',\n",
       " 'both',\n",
       " 'but',\n",
       " 'by',\n",
       " 'can',\n",
       " 'couldn',\n",
       " \"couldn't\",\n",
       " 'd',\n",
       " 'did',\n",
       " 'didn',\n",
       " \"didn't\",\n",
       " 'do',\n",
       " 'does',\n",
       " 'doesn',\n",
       " \"doesn't\",\n",
       " 'doing',\n",
       " 'don',\n",
       " \"don't\",\n",
       " 'down',\n",
       " 'during',\n",
       " 'each',\n",
       " 'few',\n",
       " 'for',\n",
       " 'from',\n",
       " 'further',\n",
       " 'had',\n",
       " 'hadn',\n",
       " \"hadn't\",\n",
       " 'has',\n",
       " 'hasn',\n",
       " \"hasn't\",\n",
       " 'have',\n",
       " 'haven',\n",
       " \"haven't\",\n",
       " 'having',\n",
       " 'he',\n",
       " 'her',\n",
       " 'here',\n",
       " 'hers',\n",
       " 'herself',\n",
       " 'him',\n",
       " 'himself',\n",
       " 'his',\n",
       " 'how',\n",
       " 'i',\n",
       " 'if',\n",
       " 'in',\n",
       " 'into',\n",
       " 'is',\n",
       " 'isn',\n",
       " \"isn't\",\n",
       " 'it',\n",
       " \"it's\",\n",
       " 'its',\n",
       " 'itself',\n",
       " 'just',\n",
       " 'll',\n",
       " 'm',\n",
       " 'ma',\n",
       " 'me',\n",
       " 'mightn',\n",
       " \"mightn't\",\n",
       " 'more',\n",
       " 'most',\n",
       " 'mustn',\n",
       " \"mustn't\",\n",
       " 'my',\n",
       " 'myself',\n",
       " 'needn',\n",
       " \"needn't\",\n",
       " 'no',\n",
       " 'nor',\n",
       " 'not',\n",
       " 'now',\n",
       " 'o',\n",
       " 'of',\n",
       " 'off',\n",
       " 'on',\n",
       " 'once',\n",
       " 'only',\n",
       " 'or',\n",
       " 'other',\n",
       " 'our',\n",
       " 'ours',\n",
       " 'ourselves',\n",
       " 'out',\n",
       " 'over',\n",
       " 'own',\n",
       " 're',\n",
       " 's',\n",
       " 'same',\n",
       " 'shan',\n",
       " \"shan't\",\n",
       " 'she',\n",
       " \"she's\",\n",
       " 'should',\n",
       " \"should've\",\n",
       " 'shouldn',\n",
       " \"shouldn't\",\n",
       " 'so',\n",
       " 'some',\n",
       " 'such',\n",
       " 't',\n",
       " 'than',\n",
       " 'that',\n",
       " \"that'll\",\n",
       " 'the',\n",
       " 'their',\n",
       " 'theirs',\n",
       " 'them',\n",
       " 'themselves',\n",
       " 'then',\n",
       " 'there',\n",
       " 'these',\n",
       " 'they',\n",
       " 'this',\n",
       " 'those',\n",
       " 'through',\n",
       " 'to',\n",
       " 'too',\n",
       " 'under',\n",
       " 'until',\n",
       " 'up',\n",
       " 've',\n",
       " 'very',\n",
       " 'was',\n",
       " 'wasn',\n",
       " \"wasn't\",\n",
       " 'we',\n",
       " 'were',\n",
       " 'weren',\n",
       " \"weren't\",\n",
       " 'what',\n",
       " 'when',\n",
       " 'where',\n",
       " 'which',\n",
       " 'while',\n",
       " 'who',\n",
       " 'whom',\n",
       " 'why',\n",
       " 'will',\n",
       " 'with',\n",
       " 'won',\n",
       " \"won't\",\n",
       " 'wouldn',\n",
       " \"wouldn't\",\n",
       " 'y',\n",
       " 'you',\n",
       " \"you'd\",\n",
       " \"you'll\",\n",
       " \"you're\",\n",
       " \"you've\",\n",
       " 'your',\n",
       " 'yours',\n",
       " 'yourself',\n",
       " 'yourselves'}"
      ]
     },
     "execution_count": 90,
     "metadata": {},
     "output_type": "execute_result"
    }
   ],
   "source": [
    "stop_words"
   ]
  },
  {
   "cell_type": "code",
   "execution_count": 91,
   "id": "96bae78d-5253-44b9-8079-709bcc1c6bde",
   "metadata": {},
   "outputs": [],
   "source": [
    "train_data['prepared_text'] = train_data['prepared_text'].apply(lambda x: [word for word in x if word not in stop_words and word not in string.punctuation])"
   ]
  },
  {
   "cell_type": "code",
   "execution_count": 92,
   "id": "eadf1af3-f134-4456-ae86-0f675c843713",
   "metadata": {},
   "outputs": [
    {
     "data": {
      "text/html": [
       "<div>\n",
       "<style scoped>\n",
       "    .dataframe tbody tr th:only-of-type {\n",
       "        vertical-align: middle;\n",
       "    }\n",
       "\n",
       "    .dataframe tbody tr th {\n",
       "        vertical-align: top;\n",
       "    }\n",
       "\n",
       "    .dataframe thead th {\n",
       "        text-align: right;\n",
       "    }\n",
       "</style>\n",
       "<table border=\"1\" class=\"dataframe\">\n",
       "  <thead>\n",
       "    <tr style=\"text-align: right;\">\n",
       "      <th></th>\n",
       "      <th>label</th>\n",
       "      <th>email</th>\n",
       "      <th>length</th>\n",
       "      <th>num_words</th>\n",
       "      <th>num_sentence</th>\n",
       "      <th>prepared_text</th>\n",
       "    </tr>\n",
       "  </thead>\n",
       "  <tbody>\n",
       "    <tr>\n",
       "      <th>0</th>\n",
       "      <td>spam</td>\n",
       "      <td>attn i am bulawa mulete jr the son of mr steve...</td>\n",
       "      <td>2852</td>\n",
       "      <td>522</td>\n",
       "      <td>1</td>\n",
       "      <td>[attn, bulawa, mulete, jr, son, mr, steve, mbe...</td>\n",
       "    </tr>\n",
       "    <tr>\n",
       "      <th>1</th>\n",
       "      <td>ham</td>\n",
       "      <td>That depends. How would you like to be treated...</td>\n",
       "      <td>50</td>\n",
       "      <td>13</td>\n",
       "      <td>3</td>\n",
       "      <td>[depends, would, like, treated]</td>\n",
       "    </tr>\n",
       "    <tr>\n",
       "      <th>2</th>\n",
       "      <td>ham</td>\n",
       "      <td>Wen u miss someone, the person is definitely s...</td>\n",
       "      <td>141</td>\n",
       "      <td>30</td>\n",
       "      <td>2</td>\n",
       "      <td>[wen, u, miss, someone, person, definitely, sp...</td>\n",
       "    </tr>\n",
       "    <tr>\n",
       "      <th>3</th>\n",
       "      <td>spam</td>\n",
       "      <td>Win the newest “Harry Potter and the Order of ...</td>\n",
       "      <td>138</td>\n",
       "      <td>31</td>\n",
       "      <td>1</td>\n",
       "      <td>[win, newest, “, harry, potter, order, phoenix...</td>\n",
       "    </tr>\n",
       "    <tr>\n",
       "      <th>4</th>\n",
       "      <td>ham</td>\n",
       "      <td>Where are you lover ? I need you ...</td>\n",
       "      <td>36</td>\n",
       "      <td>9</td>\n",
       "      <td>2</td>\n",
       "      <td>[lover, need, ...]</td>\n",
       "    </tr>\n",
       "  </tbody>\n",
       "</table>\n",
       "</div>"
      ],
      "text/plain": [
       "  label                                              email  length  num_words  \\\n",
       "0  spam  attn i am bulawa mulete jr the son of mr steve...    2852        522   \n",
       "1   ham  That depends. How would you like to be treated...      50         13   \n",
       "2   ham  Wen u miss someone, the person is definitely s...     141         30   \n",
       "3  spam  Win the newest “Harry Potter and the Order of ...     138         31   \n",
       "4   ham               Where are you lover ? I need you ...      36          9   \n",
       "\n",
       "   num_sentence                                      prepared_text  \n",
       "0             1  [attn, bulawa, mulete, jr, son, mr, steve, mbe...  \n",
       "1             3                    [depends, would, like, treated]  \n",
       "2             2  [wen, u, miss, someone, person, definitely, sp...  \n",
       "3             1  [win, newest, “, harry, potter, order, phoenix...  \n",
       "4             2                                 [lover, need, ...]  "
      ]
     },
     "execution_count": 92,
     "metadata": {},
     "output_type": "execute_result"
    }
   ],
   "source": [
    "train_data.head()"
   ]
  },
  {
   "cell_type": "code",
   "execution_count": 93,
   "id": "1aa33b2e-0f19-4da5-ac0f-a69bac01dffe",
   "metadata": {},
   "outputs": [
    {
     "data": {
      "text/html": [
       "<div>\n",
       "<style scoped>\n",
       "    .dataframe tbody tr th:only-of-type {\n",
       "        vertical-align: middle;\n",
       "    }\n",
       "\n",
       "    .dataframe tbody tr th {\n",
       "        vertical-align: top;\n",
       "    }\n",
       "\n",
       "    .dataframe thead th {\n",
       "        text-align: right;\n",
       "    }\n",
       "</style>\n",
       "<table border=\"1\" class=\"dataframe\">\n",
       "  <thead>\n",
       "    <tr style=\"text-align: right;\">\n",
       "      <th></th>\n",
       "      <th>label</th>\n",
       "      <th>email</th>\n",
       "      <th>length</th>\n",
       "      <th>num_words</th>\n",
       "      <th>num_sentence</th>\n",
       "      <th>prepared_text</th>\n",
       "    </tr>\n",
       "  </thead>\n",
       "  <tbody>\n",
       "    <tr>\n",
       "      <th>0</th>\n",
       "      <td>spam</td>\n",
       "      <td>attn i am bulawa mulete jr the son of mr steve...</td>\n",
       "      <td>2852</td>\n",
       "      <td>522</td>\n",
       "      <td>1</td>\n",
       "      <td>[attn, bulawa, mulet, jr, son, mr, steve, mbek...</td>\n",
       "    </tr>\n",
       "    <tr>\n",
       "      <th>1</th>\n",
       "      <td>ham</td>\n",
       "      <td>That depends. How would you like to be treated...</td>\n",
       "      <td>50</td>\n",
       "      <td>13</td>\n",
       "      <td>3</td>\n",
       "      <td>[depend, would, like, treat]</td>\n",
       "    </tr>\n",
       "    <tr>\n",
       "      <th>2</th>\n",
       "      <td>ham</td>\n",
       "      <td>Wen u miss someone, the person is definitely s...</td>\n",
       "      <td>141</td>\n",
       "      <td>30</td>\n",
       "      <td>2</td>\n",
       "      <td>[wen, u, miss, someon, person, definit, specia...</td>\n",
       "    </tr>\n",
       "    <tr>\n",
       "      <th>3</th>\n",
       "      <td>spam</td>\n",
       "      <td>Win the newest “Harry Potter and the Order of ...</td>\n",
       "      <td>138</td>\n",
       "      <td>31</td>\n",
       "      <td>1</td>\n",
       "      <td>[win, newest, “, harri, potter, order, phoenix...</td>\n",
       "    </tr>\n",
       "    <tr>\n",
       "      <th>4</th>\n",
       "      <td>ham</td>\n",
       "      <td>Where are you lover ? I need you ...</td>\n",
       "      <td>36</td>\n",
       "      <td>9</td>\n",
       "      <td>2</td>\n",
       "      <td>[lover, need, ...]</td>\n",
       "    </tr>\n",
       "  </tbody>\n",
       "</table>\n",
       "</div>"
      ],
      "text/plain": [
       "  label                                              email  length  num_words  \\\n",
       "0  spam  attn i am bulawa mulete jr the son of mr steve...    2852        522   \n",
       "1   ham  That depends. How would you like to be treated...      50         13   \n",
       "2   ham  Wen u miss someone, the person is definitely s...     141         30   \n",
       "3  spam  Win the newest “Harry Potter and the Order of ...     138         31   \n",
       "4   ham               Where are you lover ? I need you ...      36          9   \n",
       "\n",
       "   num_sentence                                      prepared_text  \n",
       "0             1  [attn, bulawa, mulet, jr, son, mr, steve, mbek...  \n",
       "1             3                       [depend, would, like, treat]  \n",
       "2             2  [wen, u, miss, someon, person, definit, specia...  \n",
       "3             1  [win, newest, “, harri, potter, order, phoenix...  \n",
       "4             2                                 [lover, need, ...]  "
      ]
     },
     "execution_count": 93,
     "metadata": {},
     "output_type": "execute_result"
    }
   ],
   "source": [
    "ps = PorterStemmer()\n",
    "train_data['prepared_text'] = train_data['prepared_text'].apply(lambda x: [ps.stem(word) for word in x])\n",
    "train_data.head()"
   ]
  },
  {
   "cell_type": "code",
   "execution_count": 94,
   "id": "69f19c24-c8a7-4249-aeed-7a2e1d6f3adf",
   "metadata": {},
   "outputs": [
    {
     "data": {
      "text/plain": [
       "['depend', 'would', 'like', 'treat']"
      ]
     },
     "execution_count": 94,
     "metadata": {},
     "output_type": "execute_result"
    }
   ],
   "source": [
    "train_data.prepared_text[1]"
   ]
  },
  {
   "cell_type": "code",
   "execution_count": 95,
   "id": "6d887f2f-d0c7-477e-a69b-400bdd5c6645",
   "metadata": {},
   "outputs": [
    {
     "name": "stdout",
     "output_type": "stream",
     "text": [
      "                                               email  \\\n",
      "0  attn i am bulawa mulete jr the son of mr steve...   \n",
      "1  That depends. How would you like to be treated...   \n",
      "2  Wen u miss someone, the person is definitely s...   \n",
      "3  Win the newest “Harry Potter and the Order of ...   \n",
      "4               Where are you lover ? I need you ...   \n",
      "\n",
      "                                       prepared_text  \n",
      "0  attn bulawa mulet jr son mr steve mbeki mulet ...  \n",
      "1                            depend would like treat  \n",
      "2  wen u miss someon person definit special u ......  \n",
      "3  win newest “ harri potter order phoenix book 5...  \n",
      "4                                     lover need ...  \n"
     ]
    }
   ],
   "source": [
    "train_data['prepared_text'] = train_data['prepared_text'].apply(lambda x: ' '.join(str(word) for word in x))\n",
    "print(train_data[['email', 'prepared_text']].head())"
   ]
  },
  {
   "cell_type": "code",
   "execution_count": 96,
   "id": "1911af91-1730-4ac7-9b72-192e42625e22",
   "metadata": {},
   "outputs": [
    {
     "data": {
      "text/plain": [
       "'depend would like treat'"
      ]
     },
     "execution_count": 96,
     "metadata": {},
     "output_type": "execute_result"
    }
   ],
   "source": [
    "train_data.prepared_text[1]"
   ]
  },
  {
   "cell_type": "code",
   "execution_count": 97,
   "id": "3efc93b4-afd6-4bab-ba2d-455c87f23fad",
   "metadata": {},
   "outputs": [
    {
     "data": {
      "text/html": [
       "<div>\n",
       "<style scoped>\n",
       "    .dataframe tbody tr th:only-of-type {\n",
       "        vertical-align: middle;\n",
       "    }\n",
       "\n",
       "    .dataframe tbody tr th {\n",
       "        vertical-align: top;\n",
       "    }\n",
       "\n",
       "    .dataframe thead th {\n",
       "        text-align: right;\n",
       "    }\n",
       "</style>\n",
       "<table border=\"1\" class=\"dataframe\">\n",
       "  <thead>\n",
       "    <tr style=\"text-align: right;\">\n",
       "      <th></th>\n",
       "      <th>label</th>\n",
       "      <th>email</th>\n",
       "      <th>length</th>\n",
       "      <th>num_words</th>\n",
       "      <th>num_sentence</th>\n",
       "      <th>prepared_text</th>\n",
       "    </tr>\n",
       "  </thead>\n",
       "  <tbody>\n",
       "    <tr>\n",
       "      <th>0</th>\n",
       "      <td>spam</td>\n",
       "      <td>attn i am bulawa mulete jr the son of mr steve...</td>\n",
       "      <td>2852</td>\n",
       "      <td>522</td>\n",
       "      <td>1</td>\n",
       "      <td>attn bulawa mulet jr son mr steve mbeki mulet ...</td>\n",
       "    </tr>\n",
       "    <tr>\n",
       "      <th>1</th>\n",
       "      <td>ham</td>\n",
       "      <td>That depends. How would you like to be treated...</td>\n",
       "      <td>50</td>\n",
       "      <td>13</td>\n",
       "      <td>3</td>\n",
       "      <td>depend would like treat</td>\n",
       "    </tr>\n",
       "    <tr>\n",
       "      <th>2</th>\n",
       "      <td>ham</td>\n",
       "      <td>Wen u miss someone, the person is definitely s...</td>\n",
       "      <td>141</td>\n",
       "      <td>30</td>\n",
       "      <td>2</td>\n",
       "      <td>wen u miss someon person definit special u ......</td>\n",
       "    </tr>\n",
       "    <tr>\n",
       "      <th>3</th>\n",
       "      <td>spam</td>\n",
       "      <td>Win the newest “Harry Potter and the Order of ...</td>\n",
       "      <td>138</td>\n",
       "      <td>31</td>\n",
       "      <td>1</td>\n",
       "      <td>win newest “ harri potter order phoenix book 5...</td>\n",
       "    </tr>\n",
       "    <tr>\n",
       "      <th>4</th>\n",
       "      <td>ham</td>\n",
       "      <td>Where are you lover ? I need you ...</td>\n",
       "      <td>36</td>\n",
       "      <td>9</td>\n",
       "      <td>2</td>\n",
       "      <td>lover need ...</td>\n",
       "    </tr>\n",
       "  </tbody>\n",
       "</table>\n",
       "</div>"
      ],
      "text/plain": [
       "  label                                              email  length  num_words  \\\n",
       "0  spam  attn i am bulawa mulete jr the son of mr steve...    2852        522   \n",
       "1   ham  That depends. How would you like to be treated...      50         13   \n",
       "2   ham  Wen u miss someone, the person is definitely s...     141         30   \n",
       "3  spam  Win the newest “Harry Potter and the Order of ...     138         31   \n",
       "4   ham               Where are you lover ? I need you ...      36          9   \n",
       "\n",
       "   num_sentence                                      prepared_text  \n",
       "0             1  attn bulawa mulet jr son mr steve mbeki mulet ...  \n",
       "1             3                            depend would like treat  \n",
       "2             2  wen u miss someon person definit special u ......  \n",
       "3             1  win newest “ harri potter order phoenix book 5...  \n",
       "4             2                                     lover need ...  "
      ]
     },
     "execution_count": 97,
     "metadata": {},
     "output_type": "execute_result"
    }
   ],
   "source": [
    "train_data.head()"
   ]
  },
  {
   "cell_type": "code",
   "execution_count": null,
   "id": "1b3fa06d-c636-4ae9-b37f-e3adb00294a7",
   "metadata": {},
   "outputs": [],
   "source": []
  }
 ],
 "metadata": {
  "kernelspec": {
   "display_name": "Python 3 (ipykernel)",
   "language": "python",
   "name": "python3"
  },
  "language_info": {
   "codemirror_mode": {
    "name": "ipython",
    "version": 3
   },
   "file_extension": ".py",
   "mimetype": "text/x-python",
   "name": "python",
   "nbconvert_exporter": "python",
   "pygments_lexer": "ipython3",
   "version": "3.11.7"
  }
 },
 "nbformat": 4,
 "nbformat_minor": 5
}
