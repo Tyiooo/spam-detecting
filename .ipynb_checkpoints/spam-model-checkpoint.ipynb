{
 "cells": [
  {
   "cell_type": "code",
   "execution_count": 1,
   "id": "cfd199b1-2220-4cff-a599-58a12013c4c7",
   "metadata": {},
   "outputs": [],
   "source": [
    "import pandas as pd\n",
    "import matplotlib.pyplot as plt\n",
    "import seaborn as sns"
   ]
  },
  {
   "cell_type": "markdown",
   "id": "8122c851-2326-4914-93e9-cd2a4dea8197",
   "metadata": {},
   "source": [
    "<span style=\"font-size: 30px;\">**<span style=\"color:purple;\">DATA CLEANING\r\n",
    "</span>**</span>"
   ]
  },
  {
   "cell_type": "code",
   "execution_count": 2,
   "id": "a7c00305-6297-49f0-b593-5f28ae48d1eb",
   "metadata": {},
   "outputs": [
    {
     "data": {
      "text/html": [
       "<div>\n",
       "<style scoped>\n",
       "    .dataframe tbody tr th:only-of-type {\n",
       "        vertical-align: middle;\n",
       "    }\n",
       "\n",
       "    .dataframe tbody tr th {\n",
       "        vertical-align: top;\n",
       "    }\n",
       "\n",
       "    .dataframe thead th {\n",
       "        text-align: right;\n",
       "    }\n",
       "</style>\n",
       "<table border=\"1\" class=\"dataframe\">\n",
       "  <thead>\n",
       "    <tr style=\"text-align: right;\">\n",
       "      <th></th>\n",
       "      <th>label</th>\n",
       "      <th>email</th>\n",
       "    </tr>\n",
       "  </thead>\n",
       "  <tbody>\n",
       "    <tr>\n",
       "      <th>0</th>\n",
       "      <td>spam</td>\n",
       "      <td>attn i am bulawa mulete jr the son of mr steve...</td>\n",
       "    </tr>\n",
       "    <tr>\n",
       "      <th>1</th>\n",
       "      <td>ham</td>\n",
       "      <td>That depends. How would you like to be treated...</td>\n",
       "    </tr>\n",
       "    <tr>\n",
       "      <th>2</th>\n",
       "      <td>ham</td>\n",
       "      <td>Wen u miss someone, the person is definitely s...</td>\n",
       "    </tr>\n",
       "    <tr>\n",
       "      <th>3</th>\n",
       "      <td>spam</td>\n",
       "      <td>Win the newest “Harry Potter and the Order of ...</td>\n",
       "    </tr>\n",
       "    <tr>\n",
       "      <th>4</th>\n",
       "      <td>ham</td>\n",
       "      <td>Where are you lover ? I need you ...</td>\n",
       "    </tr>\n",
       "  </tbody>\n",
       "</table>\n",
       "</div>"
      ],
      "text/plain": [
       "  label                                              email\n",
       "0  spam  attn i am bulawa mulete jr the son of mr steve...\n",
       "1   ham  That depends. How would you like to be treated...\n",
       "2   ham  Wen u miss someone, the person is definitely s...\n",
       "3  spam  Win the newest “Harry Potter and the Order of ...\n",
       "4   ham               Where are you lover ? I need you ..."
      ]
     },
     "execution_count": 2,
     "metadata": {},
     "output_type": "execute_result"
    }
   ],
   "source": [
    "train_data = pd.read_csv('train.csv')\n",
    "train_data.head()"
   ]
  },
  {
   "cell_type": "code",
   "execution_count": 3,
   "id": "699287d4-5b20-47e6-a316-87b3413de73a",
   "metadata": {},
   "outputs": [
    {
     "data": {
      "text/plain": [
       "label    19\n",
       "email    19\n",
       "dtype: int64"
      ]
     },
     "execution_count": 3,
     "metadata": {},
     "output_type": "execute_result"
    }
   ],
   "source": [
    "train_data.isnull().sum()"
   ]
  },
  {
   "cell_type": "code",
   "execution_count": 4,
   "id": "d46cc158-a69d-4f4a-b225-22f3ca0868e1",
   "metadata": {},
   "outputs": [
    {
     "data": {
      "text/plain": [
       "(5863, 2)"
      ]
     },
     "execution_count": 4,
     "metadata": {},
     "output_type": "execute_result"
    }
   ],
   "source": [
    "train_data.shape"
   ]
  },
  {
   "cell_type": "code",
   "execution_count": 5,
   "id": "800ee517-3577-4257-8ffe-85221e5575f2",
   "metadata": {},
   "outputs": [],
   "source": [
    "train_data = train_data.dropna()"
   ]
  },
  {
   "cell_type": "code",
   "execution_count": 6,
   "id": "d71e0ff5-2c6c-4929-9b20-365de0c843d8",
   "metadata": {},
   "outputs": [
    {
     "data": {
      "text/plain": [
       "(5825, 2)"
      ]
     },
     "execution_count": 6,
     "metadata": {},
     "output_type": "execute_result"
    }
   ],
   "source": [
    "train_data.shape"
   ]
  },
  {
   "cell_type": "code",
   "execution_count": 7,
   "id": "e2bbe669-ac84-43e2-a637-ec426cb562c4",
   "metadata": {},
   "outputs": [
    {
     "data": {
      "text/plain": [
       "316"
      ]
     },
     "execution_count": 7,
     "metadata": {},
     "output_type": "execute_result"
    }
   ],
   "source": [
    "train_data.duplicated().sum()"
   ]
  },
  {
   "cell_type": "code",
   "execution_count": 7,
   "id": "09e37405-14c1-483a-9189-02d92e76f364",
   "metadata": {},
   "outputs": [],
   "source": [
    "train_data = train_data.drop_duplicates()"
   ]
  },
  {
   "cell_type": "code",
   "execution_count": 9,
   "id": "bee1e714-62c6-49fc-bdd4-94b2839d5cba",
   "metadata": {},
   "outputs": [
    {
     "data": {
      "text/plain": [
       "(5526, 2)"
      ]
     },
     "execution_count": 9,
     "metadata": {},
     "output_type": "execute_result"
    }
   ],
   "source": [
    "train_data.shape"
   ]
  },
  {
   "cell_type": "markdown",
   "id": "12d7f334-39d5-4e22-a2d2-b1ce36867a94",
   "metadata": {},
   "source": [
    "<span style=\"font-size: 30px;\">**<span style=\"color:purple;\">EDA\n",
    "</span>**</span>"
   ]
  },
  {
   "cell_type": "code",
   "execution_count": 10,
   "id": "23ef0d88-3606-4ca2-89a9-75eda385996c",
   "metadata": {},
   "outputs": [
    {
     "data": {
      "text/plain": [
       "ham               4739\n",
       "spam               786\n",
       "{\"mode\":\"full\"       1\n",
       "Name: label, dtype: int64"
      ]
     },
     "execution_count": 10,
     "metadata": {},
     "output_type": "execute_result"
    }
   ],
   "source": [
    "train_data.label.value_counts()"
   ]
  },
  {
   "cell_type": "code",
   "execution_count": 35,
   "id": "b54f32b0-5698-4327-a1f1-f877b9e23866",
   "metadata": {},
   "outputs": [
    {
     "data": {
      "text/html": [
       "<div>\n",
       "<style scoped>\n",
       "    .dataframe tbody tr th:only-of-type {\n",
       "        vertical-align: middle;\n",
       "    }\n",
       "\n",
       "    .dataframe tbody tr th {\n",
       "        vertical-align: top;\n",
       "    }\n",
       "\n",
       "    .dataframe thead th {\n",
       "        text-align: right;\n",
       "    }\n",
       "</style>\n",
       "<table border=\"1\" class=\"dataframe\">\n",
       "  <thead>\n",
       "    <tr style=\"text-align: right;\">\n",
       "      <th></th>\n",
       "      <th>label</th>\n",
       "      <th>email</th>\n",
       "    </tr>\n",
       "  </thead>\n",
       "  <tbody>\n",
       "    <tr>\n",
       "      <th>3754</th>\n",
       "      <td>{\"mode\":\"full\"</td>\n",
       "      <td>isActive:false}</td>\n",
       "    </tr>\n",
       "  </tbody>\n",
       "</table>\n",
       "</div>"
      ],
      "text/plain": [
       "               label            email\n",
       "3754  {\"mode\":\"full\"  isActive:false}"
      ]
     },
     "execution_count": 35,
     "metadata": {},
     "output_type": "execute_result"
    }
   ],
   "source": [
    "train_data[train_data.label == '{\"mode\":\"full\"']"
   ]
  },
  {
   "cell_type": "code",
   "execution_count": 36,
   "id": "8938bf47-3268-4ae1-940b-57267072864c",
   "metadata": {},
   "outputs": [
    {
     "data": {
      "text/plain": [
       "(5526, 2)"
      ]
     },
     "execution_count": 36,
     "metadata": {},
     "output_type": "execute_result"
    }
   ],
   "source": [
    "train_data.shape"
   ]
  },
  {
   "cell_type": "code",
   "execution_count": 41,
   "id": "2e542fff-862b-4416-a6a7-52ced252cbef",
   "metadata": {},
   "outputs": [],
   "source": [
    "train_data = train_data[train_data.label != '{\"mode\":\"full\"']"
   ]
  },
  {
   "cell_type": "code",
   "execution_count": 42,
   "id": "c865c139-f17b-43fd-bd70-31d790006619",
   "metadata": {},
   "outputs": [
    {
     "data": {
      "text/plain": [
       "(5525, 2)"
      ]
     },
     "execution_count": 42,
     "metadata": {},
     "output_type": "execute_result"
    }
   ],
   "source": [
    "train_data.shape"
   ]
  },
  {
   "cell_type": "code",
   "execution_count": 43,
   "id": "3da9c648-9f61-4983-b13a-1d41c00c24b2",
   "metadata": {},
   "outputs": [
    {
     "data": {
      "image/png": "[encoded data removed]",
      "text/plain": [
       "<Figure size 800x500 with 1 Axes>"
      ]
     },
     "metadata": {},
     "output_type": "display_data"
    }
   ],
   "source": [
    "plt.figure(figsize=(8, 5))\n",
    "plt.pie(train_data.label.value_counts(), labels = train_data.label.value_counts().index, autopct='%1.1f%%')\n",
    "plt.title('Distibution of spam and ham')\n",
    "plt.show()"
   ]
  },
  {
   "cell_type": "code",
   "execution_count": 45,
   "id": "e3d65c6b-3076-4f70-b11d-b32e43ac19f6",
   "metadata": {},
   "outputs": [
    {
     "name": "stderr",
     "output_type": "stream",
     "text": [
      "C:\\Users\\vaily\\AppData\\Local\\Temp\\ipykernel_14616\\558829466.py:1: SettingWithCopyWarning: \n",
      "A value is trying to be set on a copy of a slice from a DataFrame.\n",
      "Try using .loc[row_indexer,col_indexer] = value instead\n",
      "\n",
      "See the caveats in the documentation: https://pandas.pydata.org/pandas-docs/stable/user_guide/indexing.html#returning-a-view-versus-a-copy\n",
      "  train_data['length'] = train_data.email.apply(len)\n"
     ]
    },
    {
     "data": {
      "text/html": [
       "<div>\n",
       "<style scoped>\n",
       "    .dataframe tbody tr th:only-of-type {\n",
       "        vertical-align: middle;\n",
       "    }\n",
       "\n",
       "    .dataframe tbody tr th {\n",
       "        vertical-align: top;\n",
       "    }\n",
       "\n",
       "    .dataframe thead th {\n",
       "        text-align: right;\n",
       "    }\n",
       "</style>\n",
       "<table border=\"1\" class=\"dataframe\">\n",
       "  <thead>\n",
       "    <tr style=\"text-align: right;\">\n",
       "      <th></th>\n",
       "      <th>label</th>\n",
       "      <th>email</th>\n",
       "      <th>length</th>\n",
       "    </tr>\n",
       "  </thead>\n",
       "  <tbody>\n",
       "    <tr>\n",
       "      <th>1343</th>\n",
       "      <td>ham</td>\n",
       "      <td>U meet other fren dun wan meet me ah... Muz b ...</td>\n",
       "      <td>59</td>\n",
       "    </tr>\n",
       "    <tr>\n",
       "      <th>510</th>\n",
       "      <td>ham</td>\n",
       "      <td>url URL date wed NUMBER sep NUMBER NUMBER NUMB...</td>\n",
       "      <td>505</td>\n",
       "    </tr>\n",
       "    <tr>\n",
       "      <th>1217</th>\n",
       "      <td>ham</td>\n",
       "      <td>I'm done...</td>\n",
       "      <td>11</td>\n",
       "    </tr>\n",
       "    <tr>\n",
       "      <th>4585</th>\n",
       "      <td>ham</td>\n",
       "      <td>i am delurking to comment on the salon articl...</td>\n",
       "      <td>1543</td>\n",
       "    </tr>\n",
       "    <tr>\n",
       "      <th>3817</th>\n",
       "      <td>ham</td>\n",
       "      <td>Cool. Do you like swimming? I have a pool and ...</td>\n",
       "      <td>66</td>\n",
       "    </tr>\n",
       "  </tbody>\n",
       "</table>\n",
       "</div>"
      ],
      "text/plain": [
       "     label                                              email  length\n",
       "1343   ham  U meet other fren dun wan meet me ah... Muz b ...      59\n",
       "510    ham  url URL date wed NUMBER sep NUMBER NUMBER NUMB...     505\n",
       "1217   ham                                        I'm done...      11\n",
       "4585   ham   i am delurking to comment on the salon articl...    1543\n",
       "3817   ham  Cool. Do you like swimming? I have a pool and ...      66"
      ]
     },
     "execution_count": 45,
     "metadata": {},
     "output_type": "execute_result"
    }
   ],
   "source": [
    "train_data['length'] = train_data.email.apply(len)\n",
    "train_data.sample(5)"
   ]
  },
  {
   "cell_type": "code",
   "execution_count": 47,
   "id": "5c746167-7a0e-4fb2-b772-cc918c370cd9",
   "metadata": {},
   "outputs": [
    {
     "name": "stderr",
     "output_type": "stream",
     "text": [
      "C:\\Users\\vaily\\AppData\\Local\\Temp\\ipykernel_14616\\4147276830.py:2: SettingWithCopyWarning: \n",
      "A value is trying to be set on a copy of a slice from a DataFrame.\n",
      "Try using .loc[row_indexer,col_indexer] = value instead\n",
      "\n",
      "See the caveats in the documentation: https://pandas.pydata.org/pandas-docs/stable/user_guide/indexing.html#returning-a-view-versus-a-copy\n",
      "  train_data['num_words'] = [len(list(map(lambda x: x.strip(string.punctuation), x.split()))) for x in train_data['email'].tolist()]\n"
     ]
    }
   ],
   "source": [
    "import string\n",
    "train_data['num_words'] = [len(list(map(lambda x: x.strip(string.punctuation), x.split()))) for x in train_data['email'].tolist()]"
   ]
  },
  {
   "cell_type": "code",
   "execution_count": 48,
   "id": "3438aec1-7085-4ccd-8a52-250c4ca6ce19",
   "metadata": {},
   "outputs": [
    {
     "data": {
      "text/html": [
       "<div>\n",
       "<style scoped>\n",
       "    .dataframe tbody tr th:only-of-type {\n",
       "        vertical-align: middle;\n",
       "    }\n",
       "\n",
       "    .dataframe tbody tr th {\n",
       "        vertical-align: top;\n",
       "    }\n",
       "\n",
       "    .dataframe thead th {\n",
       "        text-align: right;\n",
       "    }\n",
       "</style>\n",
       "<table border=\"1\" class=\"dataframe\">\n",
       "  <thead>\n",
       "    <tr style=\"text-align: right;\">\n",
       "      <th></th>\n",
       "      <th>label</th>\n",
       "      <th>email</th>\n",
       "      <th>length</th>\n",
       "      <th>num_words</th>\n",
       "    </tr>\n",
       "  </thead>\n",
       "  <tbody>\n",
       "    <tr>\n",
       "      <th>0</th>\n",
       "      <td>spam</td>\n",
       "      <td>attn i am bulawa mulete jr the son of mr steve...</td>\n",
       "      <td>2852</td>\n",
       "      <td>522</td>\n",
       "    </tr>\n",
       "    <tr>\n",
       "      <th>1</th>\n",
       "      <td>ham</td>\n",
       "      <td>That depends. How would you like to be treated...</td>\n",
       "      <td>50</td>\n",
       "      <td>10</td>\n",
       "    </tr>\n",
       "    <tr>\n",
       "      <th>2</th>\n",
       "      <td>ham</td>\n",
       "      <td>Wen u miss someone, the person is definitely s...</td>\n",
       "      <td>141</td>\n",
       "      <td>25</td>\n",
       "    </tr>\n",
       "    <tr>\n",
       "      <th>3</th>\n",
       "      <td>spam</td>\n",
       "      <td>Win the newest “Harry Potter and the Order of ...</td>\n",
       "      <td>138</td>\n",
       "      <td>26</td>\n",
       "    </tr>\n",
       "    <tr>\n",
       "      <th>4</th>\n",
       "      <td>ham</td>\n",
       "      <td>Where are you lover ? I need you ...</td>\n",
       "      <td>36</td>\n",
       "      <td>9</td>\n",
       "    </tr>\n",
       "  </tbody>\n",
       "</table>\n",
       "</div>"
      ],
      "text/plain": [
       "  label                                              email  length  num_words\n",
       "0  spam  attn i am bulawa mulete jr the son of mr steve...    2852        522\n",
       "1   ham  That depends. How would you like to be treated...      50         10\n",
       "2   ham  Wen u miss someone, the person is definitely s...     141         25\n",
       "3  spam  Win the newest “Harry Potter and the Order of ...     138         26\n",
       "4   ham               Where are you lover ? I need you ...      36          9"
      ]
     },
     "execution_count": 48,
     "metadata": {},
     "output_type": "execute_result"
    }
   ],
   "source": [
    "train_data.head()"
   ]
  },
  {
   "cell_type": "code",
   "execution_count": 49,
   "id": "6af8f734-f7f3-46a0-8645-e62415d09c83",
   "metadata": {},
   "outputs": [],
   "source": [
    "import re\n",
    "def sent_count(text):\n",
    "        new_text = re.sub(r'[.!?]\\s', r'|', text)\n",
    "        sent_num = len(new_text.split('|'))\n",
    "        return sent_num"
   ]
  },
  {
   "cell_type": "code",
   "execution_count": 50,
   "id": "f70b7e04-5dfc-4da5-919c-ca6b01633019",
   "metadata": {},
   "outputs": [
    {
     "name": "stderr",
     "output_type": "stream",
     "text": [
      "C:\\Users\\vaily\\AppData\\Local\\Temp\\ipykernel_14616\\2262576162.py:1: SettingWithCopyWarning: \n",
      "A value is trying to be set on a copy of a slice from a DataFrame.\n",
      "Try using .loc[row_indexer,col_indexer] = value instead\n",
      "\n",
      "See the caveats in the documentation: https://pandas.pydata.org/pandas-docs/stable/user_guide/indexing.html#returning-a-view-versus-a-copy\n",
      "  train_data['num_sentence'] = train_data['email'].apply(sent_count)\n"
     ]
    }
   ],
   "source": [
    "train_data['num_sentence'] = train_data['email'].apply(sent_count)"
   ]
  },
  {
   "cell_type": "code",
   "execution_count": 51,
   "id": "646dd6ea-1625-4aa4-ab51-a68328a52305",
   "metadata": {},
   "outputs": [
    {
     "data": {
      "text/html": [
       "<div>\n",
       "<style scoped>\n",
       "    .dataframe tbody tr th:only-of-type {\n",
       "        vertical-align: middle;\n",
       "    }\n",
       "\n",
       "    .dataframe tbody tr th {\n",
       "        vertical-align: top;\n",
       "    }\n",
       "\n",
       "    .dataframe thead th {\n",
       "        text-align: right;\n",
       "    }\n",
       "</style>\n",
       "<table border=\"1\" class=\"dataframe\">\n",
       "  <thead>\n",
       "    <tr style=\"text-align: right;\">\n",
       "      <th></th>\n",
       "      <th>label</th>\n",
       "      <th>email</th>\n",
       "      <th>length</th>\n",
       "      <th>num_words</th>\n",
       "      <th>num_sentence</th>\n",
       "    </tr>\n",
       "  </thead>\n",
       "  <tbody>\n",
       "    <tr>\n",
       "      <th>0</th>\n",
       "      <td>spam</td>\n",
       "      <td>attn i am bulawa mulete jr the son of mr steve...</td>\n",
       "      <td>2852</td>\n",
       "      <td>522</td>\n",
       "      <td>1</td>\n",
       "    </tr>\n",
       "    <tr>\n",
       "      <th>1</th>\n",
       "      <td>ham</td>\n",
       "      <td>That depends. How would you like to be treated...</td>\n",
       "      <td>50</td>\n",
       "      <td>10</td>\n",
       "      <td>3</td>\n",
       "    </tr>\n",
       "    <tr>\n",
       "      <th>2</th>\n",
       "      <td>ham</td>\n",
       "      <td>Wen u miss someone, the person is definitely s...</td>\n",
       "      <td>141</td>\n",
       "      <td>25</td>\n",
       "      <td>2</td>\n",
       "    </tr>\n",
       "    <tr>\n",
       "      <th>3</th>\n",
       "      <td>spam</td>\n",
       "      <td>Win the newest “Harry Potter and the Order of ...</td>\n",
       "      <td>138</td>\n",
       "      <td>26</td>\n",
       "      <td>1</td>\n",
       "    </tr>\n",
       "    <tr>\n",
       "      <th>4</th>\n",
       "      <td>ham</td>\n",
       "      <td>Where are you lover ? I need you ...</td>\n",
       "      <td>36</td>\n",
       "      <td>9</td>\n",
       "      <td>2</td>\n",
       "    </tr>\n",
       "  </tbody>\n",
       "</table>\n",
       "</div>"
      ],
      "text/plain": [
       "  label                                              email  length  num_words  \\\n",
       "0  spam  attn i am bulawa mulete jr the son of mr steve...    2852        522   \n",
       "1   ham  That depends. How would you like to be treated...      50         10   \n",
       "2   ham  Wen u miss someone, the person is definitely s...     141         25   \n",
       "3  spam  Win the newest “Harry Potter and the Order of ...     138         26   \n",
       "4   ham               Where are you lover ? I need you ...      36          9   \n",
       "\n",
       "   num_sentence  \n",
       "0             1  \n",
       "1             3  \n",
       "2             2  \n",
       "3             1  \n",
       "4             2  "
      ]
     },
     "execution_count": 51,
     "metadata": {},
     "output_type": "execute_result"
    }
   ],
   "source": [
    "train_data.head()"
   ]
  },
  {
   "cell_type": "code",
   "execution_count": 53,
   "id": "6647928f-3355-491a-8709-910f72fcd591",
   "metadata": {},
   "outputs": [
    {
     "data": {
      "text/plain": [
       "'Wen u miss someone, the person is definitely special for u..... But if the person is so special, why to miss them, just Keep-in-touch gdeve..'"
      ]
     },
     "execution_count": 53,
     "metadata": {},
     "output_type": "execute_result"
    }
   ],
   "source": [
    "train_data.email[2]"
   ]
  },
  {
   "cell_type": "code",
   "execution_count": 61,
   "id": "05e92a9b-d8f1-43cd-8e67-f687cf6874ee",
   "metadata": {},
   "outputs": [
    {
     "data": {
      "image/png": "[encoded data removed]",
      "text/plain": [
       "<Figure size 640x480 with 1 Axes>"
      ]
     },
     "metadata": {},
     "output_type": "display_data"
    },
    {
     "name": "stdout",
     "output_type": "stream",
     "text": [
      "Average Length of Spam Emails: 1082.643765903308\n",
      "Average Length of Ham Emails: 455.9221354716185\n"
     ]
    }
   ],
   "source": [
    "avg_length_spam = train_data[train_data['label'] == 'spam']['length'].mean()\n",
    "avg_length_ham = train_data[train_data['label'] == 'ham']['length'].mean()\n",
    "\n",
    "plt.bar(['Spam', 'Ham'], [avg_length_spam, avg_length_ham], color=['purple', 'pink'])\n",
    "plt.title('Average Length of Emails for Spam and Ham')\n",
    "plt.xlabel('Email Type')\n",
    "plt.ylabel('Average Length')\n",
    "plt.show()\n",
    "print(\"Average Length of Spam Emails:\", avg_length_spam)\n",
    "print(\"Average Length of Ham Emails:\", avg_length_ham)"
   ]
  },
  {
   "cell_type": "code",
   "execution_count": 60,
   "id": "44a8a9fa-7af7-47ec-a0c8-ec44e940df14",
   "metadata": {},
   "outputs": [
    {
     "data": {
      "image/png": "[encoded data removed]",
      "text/plain": [
       "<Figure size 640x480 with 1 Axes>"
      ]
     },
     "metadata": {},
     "output_type": "display_data"
    },
    {
     "name": "stdout",
     "output_type": "stream",
     "text": [
      "Average words of Spam Emails: 147.94274809160305\n",
      "Average words of Ham Emails: 81.03819371175354\n"
     ]
    }
   ],
   "source": [
    "avg_words_spam = train_data[train_data['label'] == 'spam']['num_words'].mean()\n",
    "avg_words_ham = train_data[train_data['label'] == 'ham']['num_words'].mean()\n",
    "\n",
    "plt.bar(['Spam', 'Ham'], [avg_words_spam, avg_words_ham], color=['purple', 'pink'])\n",
    "plt.title('Average words of Emails for Spam and Ham')\n",
    "plt.xlabel('Email Type')\n",
    "plt.ylabel('Average Length')\n",
    "plt.show()\n",
    "print(\"Average words of Spam Emails:\", avg_words_spam)\n",
    "print(\"Average words of Ham Emails:\", avg_words_ham)"
   ]
  },
  {
   "cell_type": "code",
   "execution_count": 59,
   "id": "89bfa5dc-e229-4901-8a5a-14795d13bddc",
   "metadata": {},
   "outputs": [
    {
     "data": {
      "image/png": "[encoded data removed]",
      "text/plain": [
       "<Figure size 640x480 with 1 Axes>"
      ]
     },
     "metadata": {},
     "output_type": "display_data"
    },
    {
     "name": "stdout",
     "output_type": "stream",
     "text": [
      "Average sentences of Spam Emails: 2.2646310432569976\n",
      "Average sentences of Ham Emails: 1.6334669761553071\n"
     ]
    }
   ],
   "source": [
    "avg_sentences_spam = train_data[train_data['label'] == 'spam']['num_sentence'].mean()\n",
    "avg_sentences_ham = train_data[train_data['label'] == 'ham']['num_sentence'].mean()\n",
    "\n",
    "plt.bar(['Spam', 'Ham'], [avg_sentences_spam, avg_sentences_ham], color=['purple', 'pink'])\n",
    "plt.title('Average sentences of Emails for Spam and Ham')\n",
    "plt.xlabel('Email Type')\n",
    "plt.ylabel('Average Length')\n",
    "plt.show()\n",
    "print(\"Average sentences of Spam Emails:\", avg_sentences_spam)\n",
    "print(\"Average sentences of Ham Emails:\", avg_sentences_ham)"
   ]
  },
  {
   "cell_type": "code",
   "execution_count": null,
   "id": "2f8dd326-49da-41cf-8d4b-44f04371038f",
   "metadata": {},
   "outputs": [],
   "source": []
  }
 ],
 "metadata": {
  "kernelspec": {
   "display_name": "Python 3 (ipykernel)",
   "language": "python",
   "name": "python3"
  },
  "language_info": {
   "codemirror_mode": {
    "name": "ipython",
    "version": 3
   },
   "file_extension": ".py",
   "mimetype": "text/x-python",
   "name": "python",
   "nbconvert_exporter": "python",
   "pygments_lexer": "ipython3",
   "version": "3.11.7"
  }
 },
 "nbformat": 4,
 "nbformat_minor": 5
}
